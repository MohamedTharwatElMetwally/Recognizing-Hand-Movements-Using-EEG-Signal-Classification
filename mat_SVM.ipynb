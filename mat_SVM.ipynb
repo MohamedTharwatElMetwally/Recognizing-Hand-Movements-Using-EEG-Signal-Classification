{
  "cells": [
    {
      "cell_type": "code",
      "execution_count": null,
      "metadata": {
        "id": "PsMml7r9gKKG"
      },
      "outputs": [],
      "source": [
        "def whitening(sigma):\n",
        "    ''' Calculate a whitening matrix for covariance matrix sigma. '''\n",
        "    U, l, _ = linalg.svd(sigma)\n",
        "    return U.dot( np.diag(l ** -0.5) )"
      ]
    },
    {
      "cell_type": "code",
      "execution_count": null,
      "metadata": {
        "id": "QpYNo6EagKKG"
      },
      "outputs": [],
      "source": [
        "from numpy import linalg\n",
        "\n",
        "def cov(trials):\n",
        "    ''' Calculate the covariance for each trial and return their average '''\n",
        "    ntrials = trials.shape[2]\n",
        "    covs = [ trials[:,:,i].dot(trials[:,:,i].T) / nsamples for i in range(ntrials) ]\n",
        "    return np.mean(covs, axis=0)"
      ]
    },
    {
      "cell_type": "code",
      "execution_count": null,
      "metadata": {
        "id": "bExplLwegKKG"
      },
      "outputs": [],
      "source": [
        "def csp(trials_r, trials_f):\n",
        "    '''\n",
        "    Calculate the CSP transformation matrix W.\n",
        "    arguments:\n",
        "        trials_r - Array (channels x samples x trials) containing right hand movement trials\n",
        "        trials_f - Array (channels x samples x trials) containing foot movement trials\n",
        "    returns:\n",
        "        Mixing matrix W\n",
        "    '''\n",
        "    cov_r = cov(trials_r)\n",
        "    cov_f = cov(trials_f)\n",
        "    P = whitening(cov_r + cov_f)\n",
        "    B, _, _ = linalg.svd( P.T.dot(cov_f).dot(P) )\n",
        "    W = P.dot(B)\n",
        "    return W"
      ]
    },
    {
      "cell_type": "code",
      "execution_count": null,
      "metadata": {
        "id": "1ET6fpN0gKKF"
      },
      "outputs": [],
      "source": [
        "import scipy.signal \n",
        "from scipy.signal import butter,lfilter\n",
        "\n",
        "def bandpass(trials, lo, hi, sample_rate):\n",
        "    '''\n",
        "    Designs and applies a bandpass filter to the signal.\n",
        "    \n",
        "    Parameters\n",
        "    ----------\n",
        "    trials : 3d-array (channels x samples x trials)\n",
        "        The EEGsignal\n",
        "    lo : float\n",
        "        Lower frequency bound (in Hz)\n",
        "    hi : float\n",
        "        Upper frequency bound (in Hz)\n",
        "    sample_rate : float\n",
        "        Sample rate of the signal (in Hz)\n",
        "    \n",
        "    Returns\n",
        "    -------\n",
        "    trials_filt : 3d-array (channels x samples x trials)\n",
        "        The bandpassed signal\n",
        "    '''\n",
        "\n",
        "    # The iirfilter() function takes the filter order: higher numbers mean a sharper frequency cutoff,\n",
        "    # but the resulting signal might be shifted in time, lower numbers mean a soft frequency cutoff,\n",
        "    # but the resulting signal less distorted in time. It also takes the lower and upper frequency bounds\n",
        "    # to pass, divided by the niquist frequency, which is the sample rate divided by 2:\n",
        "    a, b = scipy.signal.iirfilter(4, [lo/(sample_rate/2.0), hi/(sample_rate/2.0)],ftype='butter')\n",
        "    # Applying the filter to each trial\n",
        "    ntrials = trials.shape[2]\n",
        "    trials_filt = np.zeros((nchannels, nsamples, ntrials))\n",
        "    for i in range(ntrials):\n",
        "        trials_filt[:,:,i] = scipy.signal.filtfilt(a, b, trials[:,:,i], axis=1)\n",
        "    \n",
        "    return trials_filt"
      ]
    },
    {
      "cell_type": "code",
      "execution_count": null,
      "metadata": {
        "id": "DGP2o0jCgKKH"
      },
      "outputs": [],
      "source": [
        "def logvar(trials):\n",
        "    '''\n",
        "    Calculate the log-var of each channel.\n",
        "    \n",
        "    Parameters\n",
        "    ----------\n",
        "    trials : 3d-array (channels x samples x trials)\n",
        "        The EEG signal.\n",
        "        \n",
        "    Returns\n",
        "    -------\n",
        "    logvar - 2d-array (channels x trials)\n",
        "        For each channel the logvar of the signal\n",
        "    '''\n",
        "    return np.log(np.var(trials, axis=1))"
      ]
    },
    {
      "cell_type": "code",
      "source": [
        "from google.colab import drive\n",
        "drive.mount('/content/drive')"
      ],
      "metadata": {
        "colab": {
          "base_uri": "https://localhost:8080/"
        },
        "id": "X0WdtJfapNNJ",
        "outputId": "14bc6c92-6d1a-4001-b9bf-d54b497384b0"
      },
      "execution_count": null,
      "outputs": [
        {
          "output_type": "stream",
          "name": "stdout",
          "text": [
            "Mounted at /content/drive\n"
          ]
        }
      ]
    },
    {
      "cell_type": "code",
      "execution_count": null,
      "metadata": {
        "id": "RTKZGljRgKJ8"
      },
      "outputs": [],
      "source": [
        "import os\n",
        "import numpy as np\n",
        "import pandas as pd\n",
        "import warnings\n",
        "import scipy.io\n",
        "warnings.filterwarnings('ignore')\n",
        "d=r'/content/drive/MyDrive/Arm-Reaching/Session 1/EEG_session1_sub3_reaching_realMove.mat'"
      ]
    },
    {
      "cell_type": "code",
      "execution_count": null,
      "metadata": {
        "id": "jP7W2hxOgKJ-"
      },
      "outputs": [],
      "source": [
        "m = scipy.io.loadmat(d, struct_as_record=True)"
      ]
    },
    {
      "cell_type": "code",
      "execution_count": null,
      "metadata": {
        "id": "C0qIiTVxgKJ_"
      },
      "outputs": [],
      "source": [
        "ch=['ch1', 'ch2', 'ch3', 'ch4', 'ch5', 'ch6', 'ch7', 'ch8', 'ch9', 'ch10', 'ch11', 'ch12', 'ch13', 'ch14', 'ch15', 'ch16', 'ch17', 'ch18', 'ch19', 'ch20', 'ch21', 'ch22', 'ch23', 'ch24', 'ch25', 'ch26', 'ch27', 'ch28', 'ch29', 'ch30', 'ch31', 'ch32', 'ch33', 'ch34', 'ch35', 'ch36', 'ch37', 'ch38', 'ch39', 'ch40', 'ch41', 'ch42', 'ch43', 'ch44', 'ch45', 'ch46', 'ch47', 'ch48', 'ch49', 'ch50', 'ch51', 'ch52', 'ch53', 'ch54', 'ch55', 'ch56', 'ch57', 'ch58', 'ch59', 'ch60']"
      ]
    },
    {
      "cell_type": "code",
      "execution_count": null,
      "metadata": {
        "id": "Op1db2m8gKJ_"
      },
      "outputs": [],
      "source": [
        "arr=[m[i] for i in ch ]  \n",
        "arr=np.hstack(arr)\n",
        "EEG=arr.T\n",
        "nchannels, nsamples =EEG.shape"
      ]
    },
    {
      "cell_type": "code",
      "execution_count": null,
      "metadata": {
        "id": "gVUNNt9hgKKB"
      },
      "outputs": [],
      "source": [
        "sample_rate = m['nfo']['fs'][0][0][0][0]\n",
        "channel_names = [s[0] for s in m['nfo']['clab'][0][0][0]]\n",
        "event_onsets = m['mrk'][0][0][0]\n",
        "event_codes = m['mrk'][0][0][1]\n",
        "labels = np.zeros((1, nsamples), int)\n",
        "labels[0, event_onsets] = event_codes\n",
        "cl_lab = [s[0] for s in m['nfo']['className'][0][0][0]]\n",
        "nclasses = len(cl_lab)\n",
        "nevents = len(event_onsets)"
      ]
    },
    {
      "cell_type": "code",
      "execution_count": null,
      "metadata": {
        "colab": {
          "base_uri": "https://localhost:8080/"
        },
        "id": "i0kZWwj9gKKC",
        "outputId": "e8327f7e-d60b-4c2f-829f-7c918a04b71b"
      },
      "outputs": [
        {
          "output_type": "stream",
          "name": "stdout",
          "text": [
            "Shape of EEG: (60, 8394200)\n",
            "Sample rate: 2500\n",
            "Number of channels: 60\n",
            "Channel names: ['Fp1', 'AF7', 'AF3', 'AFz', 'F7', 'F5', 'F3', 'F1', 'Fz', 'FT7', 'FC5', 'FC3', 'FC1', 'T7', 'C5', 'C3', 'C1', 'Cz', 'TP7', 'CP5', 'CP3', 'CP1', 'CPz', 'P7', 'P5', 'P3', 'P1', 'Pz', 'PO7', 'PO3', 'POz', 'Fp2', 'AF4', 'AF8', 'F2', 'F4', 'F6', 'F8', 'FC2', 'FC4', 'FC6', 'FT8', 'C2', 'C4', 'C6', 'T8', 'CP2', 'CP4', 'CP6', 'TP8', 'P2', 'P4', 'P6', 'P8', 'PO4', 'PO8', 'O1', 'Oz', 'O2', 'Iz']\n",
            "Number of events: 1\n",
            "Event codes: [ 8 11 21 31 41 51 61]\n",
            "Class labels: ['Forward', 'Backward', 'Left', 'Right', 'Up', 'Down', 'Rest']\n",
            "Number of classes: 7\n"
          ]
        }
      ],
      "source": [
        "# Print some information\n",
        "print('Shape of EEG:', EEG.shape)\n",
        "print('Sample rate:', sample_rate)\n",
        "print('Number of channels:', nchannels)\n",
        "print('Channel names:', channel_names)\n",
        "print('Number of events:', len(event_onsets))\n",
        "print('Event codes:', np.unique(event_codes))\n",
        "print('Class labels:', cl_lab)\n",
        "print('Number of classes:', nclasses)"
      ]
    },
    {
      "cell_type": "code",
      "execution_count": null,
      "metadata": {
        "id": "GYD9J4u4gKKD"
      },
      "outputs": [],
      "source": [
        "cd=[11, 21, 31, 41, 51, 61,8]\n",
        "cl_lab=[ 'Forward','Backward','Left', 'Right','Up', 'Down','Rest']"
      ]
    },
    {
      "cell_type": "code",
      "execution_count": null,
      "metadata": {
        "id": "nY_YaHkBgKKD"
      },
      "outputs": [],
      "source": [
        "# Dictionary to store the trials in, each class gets an entry\n",
        "trials = {}\n",
        "\n",
        "# The time window (in samples) to extract for each trial, here 0.5 -- 2.5 seconds\n",
        "win = np.arange(int(0.5*sample_rate), int(2.5*sample_rate))\n",
        "\n",
        "# Length of the time window\n",
        "nsamples = len(win)\n",
        "\n",
        "# Loop over the classes (right, foot)\n",
        "for cl, code in zip(cl_lab, cd):\n",
        "    \n",
        "    # Extract the onsets for the class\n",
        "    cl_onsets = event_onsets[event_codes == code]\n",
        "    \n",
        "    # Allocate memory for the trials\n",
        "    trials[cl] = np.zeros((nchannels, nsamples, len(cl_onsets)))\n",
        "    \n",
        "    # Extract each trial\n",
        "    for i, onset in enumerate(cl_onsets):\n",
        "        trials[cl][:,:,i] = EEG[:, win+onset]"
      ]
    },
    {
      "cell_type": "code",
      "execution_count": null,
      "metadata": {
        "id": "pLkcJxfZgKKF"
      },
      "outputs": [],
      "source": [
        "cl1=cl_lab[0]\n",
        "cl2=cl_lab[1]\n",
        "cl3=cl_lab[2]\n",
        "cl4=cl_lab[3]\n",
        "cl5=cl_lab[4]\n",
        "cl6=cl_lab[5]"
      ]
    },
    {
      "cell_type": "code",
      "execution_count": null,
      "metadata": {
        "id": "W5tuWWu6gKKF"
      },
      "outputs": [],
      "source": [
        "labels[0, event_onsets] = event_codes"
      ]
    },
    {
      "cell_type": "code",
      "execution_count": null,
      "metadata": {
        "id": "19r37v7vgKKG"
      },
      "outputs": [],
      "source": [
        "#Apply the function\n",
        "trials_filt = {cl1: bandpass(trials[cl1], 8, 30, sample_rate),\n",
        "               cl2: bandpass(trials[cl2], 8, 30, sample_rate),\n",
        "               cl3: bandpass(trials[cl3], 8, 30, sample_rate),\n",
        "               cl4: bandpass(trials[cl4], 8, 30, sample_rate),\n",
        "               cl5: bandpass(trials[cl5], 8, 30, sample_rate),\n",
        "               cl6: bandpass(trials[cl6], 8, 30, sample_rate)}"
      ]
    },
    {
      "cell_type": "code",
      "execution_count": null,
      "metadata": {
        "colab": {
          "base_uri": "https://localhost:8080/"
        },
        "id": "9r7tsUxSgKKG",
        "outputId": "32a263d1-b43c-4ee4-ef95-9855a57618e0"
      },
      "outputs": [
        {
          "output_type": "execute_result",
          "data": {
            "text/plain": [
              "(60, 5000, 50)"
            ]
          },
          "metadata": {},
          "execution_count": 18
        }
      ],
      "source": [
        "trials_filt[cl1].shape"
      ]
    },
    {
      "cell_type": "code",
      "execution_count": null,
      "metadata": {
        "id": "0qajWUhugKKH"
      },
      "outputs": [],
      "source": [
        "def apply_mix(W, trials):\n",
        "    ''' Apply a mixing matrix to each trial (basically multiply W with the EEG signal matrix)'''\n",
        "    ntrials = trials.shape[2]\n",
        "    trials_csp = np.zeros((nchannels, nsamples, ntrials))\n",
        "    for i in range(ntrials):\n",
        "        trials_csp[:,:,i] = W.T.dot(trials[:,:,i])\n",
        "    return trials_csp"
      ]
    },
    {
      "cell_type": "code",
      "execution_count": null,
      "metadata": {
        "id": "-uNs7NAYgKKH",
        "colab": {
          "base_uri": "https://localhost:8080/"
        },
        "outputId": "1e311128-439f-4750-8d9f-dac3fa29d09b"
      },
      "outputs": [
        {
          "output_type": "stream",
          "name": "stdout",
          "text": [
            "(11, 5000, 25)\n",
            "(11, 25)\n"
          ]
        }
      ],
      "source": [
        "#Percentage of trials to use for training (50-50 split here)\n",
        "train_percentage = 0.5\n",
        "\n",
        "# Calculate the number of trials for each class the above percentage boils down to\n",
        "ntrain_1 = int(trials_filt[cl1].shape[2] * train_percentage)\n",
        "ntrain_2 = int(trials_filt[cl2].shape[2] * train_percentage)\n",
        "ntrain_3=  int(trials_filt[cl3].shape[2] * train_percentage)\n",
        "ntrain_4 = int(trials_filt[cl4].shape[2] * train_percentage)\n",
        "ntrain_5 = int(trials_filt[cl5].shape[2] * train_percentage)\n",
        "ntrain_6 = int(trials_filt[cl6].shape[2] * train_percentage)\n",
        "\n",
        "\n",
        "\n",
        "\n",
        "ntest_1 = trials_filt[cl1].shape[2] - ntrain_1\n",
        "ntest_2 = trials_filt[cl2].shape[2] - ntrain_2\n",
        "ntest_3 = trials_filt[cl3].shape[2] - ntrain_3\n",
        "ntest_4 = trials_filt[cl4].shape[2] - ntrain_4\n",
        "ntest_5 = trials_filt[cl5].shape[2] - ntrain_5\n",
        "ntest_6 = trials_filt[cl6].shape[2] - ntrain_6\n",
        "\n",
        "\n",
        "# Splitting the frequency filtered signal into a train and test set\n",
        "train = {cl1: trials_filt[cl1][:,:,:ntrain_1],\n",
        "         cl2: trials_filt[cl2][:,:,:ntrain_2],\n",
        "         cl3: trials_filt[cl3][:,:,:ntrain_3],\n",
        "         cl4: trials_filt[cl4][:,:,:ntrain_4],\n",
        "         cl5: trials_filt[cl5][:,:,:ntrain_5],\n",
        "         cl6: trials_filt[cl6][:,:,:ntrain_6],}\n",
        "\n",
        "test = {cl1: trials_filt[cl1][:,:,ntrain_1:],\n",
        "        cl2: trials_filt[cl2][:,:,ntrain_2:],\n",
        "        cl3: trials_filt[cl3][:,:,ntrain_3:],\n",
        "        cl4: trials_filt[cl4][:,:,ntrain_4:],\n",
        "        cl5: trials_filt[cl5][:,:,ntrain_5:],\n",
        "        cl6: trials_filt[cl6][:,:,ntrain_6:],}\n",
        "    \n",
        "#print (train.items)\n",
        "# Train the CSP on the training set only\n",
        "W = csp(train[cl1], train[cl2])\n",
        "\n",
        "# Apply the CSP on both the training and test set\n",
        "train[cl1] = apply_mix(W, train[cl1])\n",
        "train[cl2] = apply_mix(W, train[cl2])\n",
        "test[cl1] = apply_mix(W, test[cl1])\n",
        "test[cl2] = apply_mix(W, test[cl2])\n",
        "\n",
        "# Select only the first and last components for classification\n",
        "comp = np.array([0,1,2,3,4,5,6,7,8,9,10])\n",
        "train[cl1] = train[cl1][comp,:,:]\n",
        "train[cl2] = train[cl2][comp,:,:]\n",
        "test[cl1] = test[cl1][comp,:,:]\n",
        "test[cl2] = test[cl2][comp,:,:]\n",
        "print (train[cl2].shape)\n",
        "\n",
        "# Calculate the log-var\n",
        "train[cl1] = logvar(train[cl1])\n",
        "train[cl2] = logvar(train[cl2])\n",
        "test[cl1] = logvar(test[cl1])\n",
        "test[cl2] = logvar(test[cl2])\n",
        "print (train[cl2].shape)"
      ]
    },
    {
      "cell_type": "code",
      "source": [
        "#reshape the training data \n",
        "channels = [ np.concatenate([train[cl1][i],train[cl2][i]]) for i in range(train[cl2].shape[0])]\n",
        "xtrain=np.stack(channels, axis=1)\n",
        "ytrain=np.concatenate([np.zeros(len(train[cl1][0])),np.ones(len(train[cl2][0]))])\n",
        "\n",
        "#reshape test data \n",
        "channels = [ np.concatenate([train[cl1][i],train[cl2][i]]) for i in range(train[cl2].shape[0])]\n",
        "xtest=np.stack(channels, axis=1)\n",
        "ytest=np.concatenate([np.zeros(len(test[cl1][0])),np.ones(len(test[cl2][0]))])"
      ],
      "metadata": {
        "id": "nP2GCDGnXxKg"
      },
      "execution_count": null,
      "outputs": []
    },
    {
      "cell_type": "code",
      "source": [
        "xtrain.shape , ytrain.shape , xtest.shape , ytest.shape"
      ],
      "metadata": {
        "colab": {
          "base_uri": "https://localhost:8080/"
        },
        "id": "wj2KcUVChOvp",
        "outputId": "085746bd-3338-45bc-c7d1-3824050804b4"
      },
      "execution_count": null,
      "outputs": [
        {
          "output_type": "execute_result",
          "data": {
            "text/plain": [
              "((50, 11), (50,), (50, 11), (50,))"
            ]
          },
          "metadata": {},
          "execution_count": 22
        }
      ]
    },
    {
      "cell_type": "code",
      "source": [
        "\n",
        "xtest.shape"
      ],
      "metadata": {
        "colab": {
          "base_uri": "https://localhost:8080/"
        },
        "id": "9HNJPG5XbnqP",
        "outputId": "046869dd-b952-4df8-b5be-d15179973a76"
      },
      "execution_count": null,
      "outputs": [
        {
          "output_type": "execute_result",
          "data": {
            "text/plain": [
              "(50, 11)"
            ]
          },
          "metadata": {},
          "execution_count": 23
        }
      ]
    },
    {
      "cell_type": "code",
      "source": [
        "from sklearn import svm\n",
        "from sklearn import metrics\n",
        "\n",
        "#Create a svm Classifier\n",
        "clf = svm.SVC(kernel='linear') # Linear Kernel\n",
        "\n",
        "#Train the model using the training sets\n",
        "clf.fit(xtrain, ytrain)\n",
        "\n",
        "#Predict the response for test dataset\n",
        "y_pred = clf.predict(xtest)\n",
        "\n",
        "print(\"Accuracy:\",metrics.accuracy_score(ytest, y_pred))"
      ],
      "metadata": {
        "colab": {
          "base_uri": "https://localhost:8080/"
        },
        "id": "XGoHwGY6S-qd",
        "outputId": "9d089b0a-53dd-4ab6-f713-e2dbf01b45b9"
      },
      "execution_count": null,
      "outputs": [
        {
          "output_type": "stream",
          "name": "stdout",
          "text": [
            "Accuracy: 0.76\n"
          ]
        }
      ]
    }
  ],
  "metadata": {
    "kernelspec": {
      "display_name": "Python 3",
      "language": "python",
      "name": "python3"
    },
    "language_info": {
      "codemirror_mode": {
        "name": "ipython",
        "version": 3
      },
      "file_extension": ".py",
      "mimetype": "text/x-python",
      "name": "python",
      "nbconvert_exporter": "python",
      "pygments_lexer": "ipython3",
      "version": "3.8.5"
    },
    "colab": {
      "provenance": [],
      "toc_visible": true
    },
    "gpuClass": "standard"
  },
  "nbformat": 4,
  "nbformat_minor": 0
}