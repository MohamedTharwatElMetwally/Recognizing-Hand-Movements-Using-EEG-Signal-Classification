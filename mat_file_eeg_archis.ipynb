{
  "cells": [
    {
      "cell_type": "code",
      "execution_count": 69,
      "metadata": {
        "id": "PsMml7r9gKKG"
      },
      "outputs": [],
      "source": [
        "def whitening(sigma):\n",
        "    ''' Calculate a whitening matrix for covariance matrix sigma. '''\n",
        "    U, l, _ = linalg.svd(sigma)\n",
        "    return U.dot( np.diag(l ** -0.5) )"
      ]
    },
    {
      "cell_type": "code",
      "execution_count": 70,
      "metadata": {
        "id": "QpYNo6EagKKG"
      },
      "outputs": [],
      "source": [
        "from numpy import linalg\n",
        "\n",
        "def cov(trials):\n",
        "    ''' Calculate the covariance for each trial and return their average '''\n",
        "    ntrials = trials.shape[2]\n",
        "    covs = [ trials[:,:,i].dot(trials[:,:,i].T) / nsamples for i in range(ntrials) ]\n",
        "    return np.mean(covs, axis=0)"
      ]
    },
    {
      "cell_type": "code",
      "execution_count": 71,
      "metadata": {
        "id": "bExplLwegKKG"
      },
      "outputs": [],
      "source": [
        "def csp(trials_r, trials_f):\n",
        "    '''\n",
        "    Calculate the CSP transformation matrix W.\n",
        "    arguments:\n",
        "        trials_r - Array (channels x samples x trials) containing right hand movement trials\n",
        "        trials_f - Array (channels x samples x trials) containing foot movement trials\n",
        "    returns:\n",
        "        Mixing matrix W\n",
        "    '''\n",
        "    cov_r = cov(trials_r)\n",
        "    cov_f = cov(trials_f)\n",
        "    P = whitening(cov_r + cov_f)\n",
        "    B, _, _ = linalg.svd( P.T.dot(cov_f).dot(P) )\n",
        "    W = P.dot(B)\n",
        "    return W"
      ]
    },
    {
      "cell_type": "code",
      "execution_count": 72,
      "metadata": {
        "id": "1ET6fpN0gKKF"
      },
      "outputs": [],
      "source": [
        "import scipy.signal \n",
        "from scipy.signal import butter,lfilter\n",
        "\n",
        "def bandpass(trials, lo, hi, sample_rate):\n",
        "    '''\n",
        "    Designs and applies a bandpass filter to the signal.\n",
        "    \n",
        "    Parameters\n",
        "    ----------\n",
        "    trials : 3d-array (channels x samples x trials)\n",
        "        The EEGsignal\n",
        "    lo : float\n",
        "        Lower frequency bound (in Hz)\n",
        "    hi : float\n",
        "        Upper frequency bound (in Hz)\n",
        "    sample_rate : float\n",
        "        Sample rate of the signal (in Hz)\n",
        "    \n",
        "    Returns\n",
        "    -------\n",
        "    trials_filt : 3d-array (channels x samples x trials)\n",
        "        The bandpassed signal\n",
        "    '''\n",
        "\n",
        "    # The iirfilter() function takes the filter order: higher numbers mean a sharper frequency cutoff,\n",
        "    # but the resulting signal might be shifted in time, lower numbers mean a soft frequency cutoff,\n",
        "    # but the resulting signal less distorted in time. It also takes the lower and upper frequency bounds\n",
        "    # to pass, divided by the niquist frequency, which is the sample rate divided by 2:\n",
        "    a, b = scipy.signal.iirfilter(4, [lo/(sample_rate/2.0), hi/(sample_rate/2.0)],ftype='butter')\n",
        "    # Applying the filter to each trial\n",
        "    ntrials = trials.shape[2]\n",
        "    trials_filt = np.zeros((nchannels, nsamples, ntrials))\n",
        "    for i in range(ntrials):\n",
        "        trials_filt[:,:,i] = scipy.signal.filtfilt(a, b, trials[:,:,i], axis=1)\n",
        "    \n",
        "    return trials_filt"
      ]
    },
    {
      "cell_type": "code",
      "execution_count": 73,
      "metadata": {
        "id": "DGP2o0jCgKKH"
      },
      "outputs": [],
      "source": [
        "def logvar(trials):\n",
        "    '''\n",
        "    Calculate the log-var of each channel.\n",
        "    \n",
        "    Parameters\n",
        "    ----------\n",
        "    trials : 3d-array (channels x samples x trials)\n",
        "        The EEG signal.\n",
        "        \n",
        "    Returns\n",
        "    -------\n",
        "    logvar - 2d-array (channels x trials)\n",
        "        For each channel the logvar of the signal\n",
        "    '''\n",
        "    return np.log(np.var(trials, axis=1))"
      ]
    },
    {
      "cell_type": "code",
      "execution_count": 74,
      "metadata": {
        "id": "0qajWUhugKKH"
      },
      "outputs": [],
      "source": [
        "def apply_mix(W, trials):\n",
        "    ''' Apply a mixing matrix to each trial (basically multiply W with the EEG signal matrix)'''\n",
        "    ntrials = trials.shape[2]\n",
        "    trials_csp = np.zeros((nchannels, nsamples, ntrials))\n",
        "    for i in range(ntrials):\n",
        "        trials_csp[:,:,i] = W.T.dot(trials[:,:,i])\n",
        "    return trials_csp"
      ]
    },
    {
      "cell_type": "code",
      "source": [
        "from google.colab import drive\n",
        "drive.mount('/content/drive')"
      ],
      "metadata": {
        "colab": {
          "base_uri": "https://localhost:8080/"
        },
        "id": "X0WdtJfapNNJ",
        "outputId": "5a6f2915-2558-4302-c799-2c0b7b833414"
      },
      "execution_count": 75,
      "outputs": [
        {
          "output_type": "stream",
          "name": "stdout",
          "text": [
            "Drive already mounted at /content/drive; to attempt to forcibly remount, call drive.mount(\"/content/drive\", force_remount=True).\n"
          ]
        }
      ]
    },
    {
      "cell_type": "code",
      "execution_count": 76,
      "metadata": {
        "id": "RTKZGljRgKJ8"
      },
      "outputs": [],
      "source": [
        "import os\n",
        "import numpy as np\n",
        "import pandas as pd\n",
        "import warnings\n",
        "import scipy.io\n",
        "warnings.filterwarnings('ignore')\n",
        "d=r'/content/drive/MyDrive/Arm-Reaching/Session 1/EEG_session1_sub11_reaching_realMove.mat'"
      ]
    },
    {
      "cell_type": "code",
      "execution_count": 77,
      "metadata": {
        "id": "jP7W2hxOgKJ-"
      },
      "outputs": [],
      "source": [
        "m = scipy.io.loadmat(d, struct_as_record=True)"
      ]
    },
    {
      "cell_type": "code",
      "execution_count": 78,
      "metadata": {
        "id": "C0qIiTVxgKJ_"
      },
      "outputs": [],
      "source": [
        "ch=['ch1', 'ch2', 'ch3', 'ch4', 'ch5', 'ch6', 'ch7', 'ch8', 'ch9', 'ch10', 'ch11', 'ch12', 'ch13', 'ch14', 'ch15', 'ch16', 'ch17', 'ch18', 'ch19', 'ch20', 'ch21', 'ch22', 'ch23', 'ch24', 'ch25', 'ch26', 'ch27', 'ch28', 'ch29', 'ch30', 'ch31', 'ch32', 'ch33', 'ch34', 'ch35', 'ch36', 'ch37', 'ch38', 'ch39', 'ch40', 'ch41', 'ch42', 'ch43', 'ch44', 'ch45', 'ch46', 'ch47', 'ch48', 'ch49', 'ch50', 'ch51', 'ch52', 'ch53', 'ch54', 'ch55', 'ch56', 'ch57', 'ch58', 'ch59', 'ch60']"
      ]
    },
    {
      "cell_type": "code",
      "execution_count": 79,
      "metadata": {
        "id": "Op1db2m8gKJ_"
      },
      "outputs": [],
      "source": [
        "arr=[m[i] for i in ch ]  \n",
        "arr=np.hstack(arr)\n",
        "EEG=arr.T\n",
        "nchannels, nsamples =EEG.shape"
      ]
    },
    {
      "cell_type": "code",
      "execution_count": 80,
      "metadata": {
        "id": "gVUNNt9hgKKB"
      },
      "outputs": [],
      "source": [
        "sample_rate = m['nfo']['fs'][0][0][0][0]\n",
        "channel_names = [s[0] for s in m['nfo']['clab'][0][0][0]]\n",
        "event_onsets = m['mrk'][0][0][0]\n",
        "event_codes = m['mrk'][0][0][1]\n",
        "labels = np.zeros((1, nsamples), int)\n",
        "labels[0, event_onsets] = event_codes\n",
        "cl_lab = [s[0] for s in m['nfo']['className'][0][0][0]]\n",
        "nclasses = len(cl_lab)\n",
        "nevents = len(event_onsets)"
      ]
    },
    {
      "cell_type": "code",
      "execution_count": 81,
      "metadata": {
        "colab": {
          "base_uri": "https://localhost:8080/"
        },
        "id": "i0kZWwj9gKKC",
        "outputId": "70122a87-8953-4fd8-960c-0bce26b9233a"
      },
      "outputs": [
        {
          "output_type": "stream",
          "name": "stdout",
          "text": [
            "Shape of EEG: (60, 8488200)\n",
            "Sample rate: 2500\n",
            "Number of channels: 60\n",
            "Channel names: ['Fp1', 'AF7', 'AF3', 'AFz', 'F7', 'F5', 'F3', 'F1', 'Fz', 'FT7', 'FC5', 'FC3', 'FC1', 'T7', 'C5', 'C3', 'C1', 'Cz', 'TP7', 'CP5', 'CP3', 'CP1', 'CPz', 'P7', 'P5', 'P3', 'P1', 'Pz', 'PO7', 'PO3', 'POz', 'Fp2', 'AF4', 'AF8', 'F2', 'F4', 'F6', 'F8', 'FC2', 'FC4', 'FC6', 'FT8', 'C2', 'C4', 'C6', 'T8', 'CP2', 'CP4', 'CP6', 'TP8', 'P2', 'P4', 'P6', 'P8', 'PO4', 'PO8', 'O1', 'Oz', 'O2', 'Iz']\n",
            "Number of events: 1\n",
            "Event codes: [ 8 11 21 31 41 51 61]\n",
            "Class labels: ['Forward', 'Backward', 'Left', 'Right', 'Up', 'Down', 'Rest']\n",
            "Number of classes: 7\n"
          ]
        }
      ],
      "source": [
        "# Print some information\n",
        "print('Shape of EEG:', EEG.shape)\n",
        "print('Sample rate:', sample_rate)\n",
        "print('Number of channels:', nchannels)\n",
        "print('Channel names:', channel_names)\n",
        "print('Number of events:', len(event_onsets))\n",
        "print('Event codes:', np.unique(event_codes))\n",
        "print('Class labels:', cl_lab)\n",
        "print('Number of classes:', nclasses)"
      ]
    },
    {
      "cell_type": "code",
      "execution_count": 82,
      "metadata": {
        "id": "GYD9J4u4gKKD"
      },
      "outputs": [],
      "source": [
        "cd=[11, 21, 31, 41, 51, 61,8]\n",
        "cl_lab=[ 'Forward','Backward','Left', 'Right','Up', 'Down','Rest']"
      ]
    },
    {
      "cell_type": "code",
      "execution_count": 83,
      "metadata": {
        "id": "nY_YaHkBgKKD"
      },
      "outputs": [],
      "source": [
        "# Dictionary to store the trials in, each class gets an entry\n",
        "trials = {}\n",
        "\n",
        "# The time window (in samples) to extract for each trial, here 0.5 -- 2.5 seconds\n",
        "win = np.arange(int(0.5*sample_rate), int(2.5*sample_rate))\n",
        "\n",
        "# Length of the time window\n",
        "nsamples = len(win)\n",
        "\n",
        "# Loop over the classes (right, foot)\n",
        "for cl, code in zip(cl_lab, cd):\n",
        "    \n",
        "    # Extract the onsets for the class\n",
        "    cl_onsets = event_onsets[event_codes == code]\n",
        "    \n",
        "    # Allocate memory for the trials\n",
        "    trials[cl] = np.zeros((nchannels, nsamples, len(cl_onsets)))\n",
        "    \n",
        "    # Extract each trial\n",
        "    for i, onset in enumerate(cl_onsets):\n",
        "        trials[cl][:,:,i] = EEG[:, win+onset]"
      ]
    },
    {
      "cell_type": "code",
      "execution_count": 84,
      "metadata": {
        "id": "pLkcJxfZgKKF"
      },
      "outputs": [],
      "source": [
        "cl1=cl_lab[0]\n",
        "cl2=cl_lab[1]\n",
        "cl3=cl_lab[2]\n",
        "cl4=cl_lab[3]\n",
        "cl5=cl_lab[4]\n",
        "cl6=cl_lab[5]"
      ]
    },
    {
      "cell_type": "code",
      "execution_count": 85,
      "metadata": {
        "id": "W5tuWWu6gKKF"
      },
      "outputs": [],
      "source": [
        "labels[0, event_onsets] = event_codes"
      ]
    },
    {
      "cell_type": "code",
      "execution_count": 86,
      "metadata": {
        "id": "19r37v7vgKKG"
      },
      "outputs": [],
      "source": [
        "#Apply the function\n",
        "trials_filt = {cl1: bandpass(trials[cl1], 8, 30, sample_rate),\n",
        "               cl2: bandpass(trials[cl2], 8, 30, sample_rate),\n",
        "               cl3: bandpass(trials[cl3], 8, 30, sample_rate),\n",
        "               cl4: bandpass(trials[cl4], 8, 30, sample_rate),\n",
        "               cl5: bandpass(trials[cl5], 8, 30, sample_rate),\n",
        "               cl6: bandpass(trials[cl6], 8, 30, sample_rate)}"
      ]
    },
    {
      "cell_type": "code",
      "execution_count": 87,
      "metadata": {
        "colab": {
          "base_uri": "https://localhost:8080/"
        },
        "id": "9r7tsUxSgKKG",
        "outputId": "bd45280e-50db-4316-9f66-574147670765"
      },
      "outputs": [
        {
          "output_type": "execute_result",
          "data": {
            "text/plain": [
              "(60, 5000, 50)"
            ]
          },
          "metadata": {},
          "execution_count": 87
        }
      ],
      "source": [
        "trials_filt[cl1].shape"
      ]
    },
    {
      "cell_type": "code",
      "execution_count": 88,
      "metadata": {
        "id": "-uNs7NAYgKKH"
      },
      "outputs": [],
      "source": [
        "#Percentage of trials to use for training (50-50 split here)\n",
        "train_percentage = 0.5\n",
        "\n",
        "# Calculate the number of trials for each class the above percentage boils down to\n",
        "ntrain_1 = int(trials_filt[cl1].shape[2] * train_percentage)\n",
        "ntrain_2 = int(trials_filt[cl2].shape[2] * train_percentage)\n",
        "ntrain_3=  int(trials_filt[cl3].shape[2] * train_percentage)\n",
        "ntrain_4 = int(trials_filt[cl4].shape[2] * train_percentage)\n",
        "ntrain_5 = int(trials_filt[cl5].shape[2] * train_percentage)\n",
        "ntrain_6 = int(trials_filt[cl6].shape[2] * train_percentage)\n",
        "\n",
        "\n",
        "\n",
        "\n",
        "ntest_1 = trials_filt[cl1].shape[2] - ntrain_1\n",
        "ntest_2 = trials_filt[cl2].shape[2] - ntrain_2\n",
        "ntest_3 = trials_filt[cl3].shape[2] - ntrain_3\n",
        "ntest_4 = trials_filt[cl4].shape[2] - ntrain_4\n",
        "ntest_5 = trials_filt[cl5].shape[2] - ntrain_5\n",
        "ntest_6 = trials_filt[cl6].shape[2] - ntrain_6\n",
        "\n",
        "\n",
        "# Splitting the frequency filtered signal into a train and test set\n",
        "train = {cl1: trials_filt[cl1][:,:,:ntrain_1],\n",
        "         cl2: trials_filt[cl2][:,:,:ntrain_2],\n",
        "         cl3: trials_filt[cl3][:,:,:ntrain_3],\n",
        "         cl4: trials_filt[cl4][:,:,:ntrain_4],\n",
        "         cl5: trials_filt[cl5][:,:,:ntrain_5],\n",
        "         cl6: trials_filt[cl6][:,:,:ntrain_6],}\n",
        "\n",
        "test = {cl1: trials_filt[cl1][:,:,ntrain_1:],\n",
        "        cl2: trials_filt[cl2][:,:,ntrain_2:],\n",
        "        cl3: trials_filt[cl3][:,:,ntrain_3:],\n",
        "        cl4: trials_filt[cl4][:,:,ntrain_4:],\n",
        "        cl5: trials_filt[cl5][:,:,ntrain_5:],\n",
        "        cl6: trials_filt[cl6][:,:,ntrain_6:],}\n",
        "    \n",
        "#print (train.items)\n",
        "# Train the CSP on the training set only\n",
        "W = csp(train[cl1], train[cl2])\n",
        "\n",
        "# Apply the CSP on both the training and test set\n",
        "train[cl1] = apply_mix(W, train[cl1])\n",
        "train[cl2] = apply_mix(W, train[cl2])\n",
        "test[cl1] = apply_mix(W, test[cl1])\n",
        "test[cl2] = apply_mix(W, test[cl2])\n",
        "\n",
        "# Select only the first and last components for classification\n",
        "# comp = np.array([0,-1])\n",
        "# train[cl1] = train[cl1][comp,:,:]\n",
        "# train[cl2] = train[cl2][comp,:,:]\n",
        "# test[cl1] = test[cl1][comp,:,:]\n",
        "# test[cl2] = test[cl2][comp,:,:]\n",
        "# print (train[cl2].shape)\n",
        "\n",
        "# Calculate the log-var\n",
        "# train[cl1] = logvar(train[cl1])\n",
        "# train[cl2] = logvar(train[cl2])\n",
        "# test[cl1] = logvar(test[cl1])\n",
        "# test[cl2] = logvar(test[cl2])\n",
        "# print (train[cl2].shape)"
      ]
    },
    {
      "cell_type": "code",
      "execution_count": 89,
      "metadata": {
        "colab": {
          "base_uri": "https://localhost:8080/"
        },
        "id": "gYMv6o2dgKKI",
        "outputId": "088b24c0-aac2-4e44-debb-0f0f648860da"
      },
      "outputs": [
        {
          "output_type": "stream",
          "name": "stdout",
          "text": [
            "(50, 60, 5000)\n"
          ]
        },
        {
          "output_type": "execute_result",
          "data": {
            "text/plain": [
              "(50, 60, 5000)"
            ]
          },
          "metadata": {},
          "execution_count": 89
        }
      ],
      "source": [
        "ytrain=[]\n",
        "xtrain=[]\n",
        "ytest=[]\n",
        "xtest=[]\n",
        "events=[ 'Forward','Backward']\n",
        "\n",
        "for l in range(len(events)):\n",
        "    for j in range(train[events[l]].shape[2]):\n",
        "      ytrain.append(l)\n",
        "    xtrain.append(np.moveaxis(train[events[l]],-1,0))\n",
        "\n",
        "\n",
        "for l in range(len(events)):\n",
        "    for j in range(test[events[l]].shape[2]):\n",
        "      ytest.append(l)\n",
        "    xtest.append(np.moveaxis(test[events[l]],-1,0))\n",
        "\n",
        "xtrain=np.vstack(xtrain)\n",
        "print (xtrain.shape)\n",
        "xtest=np.vstack(xtest)\n",
        "xtest.shape"
      ]
    },
    {
      "cell_type": "code",
      "source": [
        "Y_train = np.array(ytrain)\n",
        "Y_test = np.array(ytest)\n",
        "Y_test.shape\n",
        "X_train = np.transpose(xtrain, (0, 2, 1))\n",
        "X_test = np.transpose(xtest,(0, 2, 1))\n",
        "X_test.shape , Y_train.shape"
      ],
      "metadata": {
        "colab": {
          "base_uri": "https://localhost:8080/"
        },
        "id": "PIL7qZQEfz8D",
        "outputId": "0d1846a1-abc9-4509-cac7-a8ed688797ee"
      },
      "execution_count": 90,
      "outputs": [
        {
          "output_type": "execute_result",
          "data": {
            "text/plain": [
              "((50, 5000, 60), (50,))"
            ]
          },
          "metadata": {},
          "execution_count": 90
        }
      ]
    },
    {
      "cell_type": "code",
      "source": [
        "import tensorflow as tf\n",
        "from tensorflow.keras.layers import Conv1D,BatchNormalization,LeakyReLU,MaxPool1D,\\\n",
        "GlobalAveragePooling1D,Dense,Dropout,AveragePooling1D\n",
        "from tensorflow.keras.backend import clear_session\n",
        "from tensorflow.keras.models import Model ,Sequential\n",
        "from tensorflow.keras.constraints import MaxNorm\n",
        "from keras.layers import Dense, Activation, Flatten\n",
        "from tensorflow.keras import regularizers\n",
        "from keras import optimizers"
      ],
      "metadata": {
        "id": "jOUJEtTYVvqA"
      },
      "execution_count": 91,
      "outputs": []
    },
    {
      "cell_type": "code",
      "source": [
        "def CNNModel():\n",
        "    \n",
        "    clear_session()\n",
        "    model_m =Sequential()\n",
        "\n",
        "    model_m.add(Dropout(0.50, input_shape=(X_train.shape[1],X_train.shape[-1])))\n",
        "    model_m.add(Conv1D(128, 4, kernel_constraint = MaxNorm(1.),padding = 'same'))\n",
        "    model_m.add(Conv1D(128, 4, kernel_constraint = MaxNorm(1.),padding = 'same',))\n",
        "    model_m.add(BatchNormalization(axis = -1))\n",
        "    model_m.add(Activation(\"relu\"))\n",
        "    model_m.add(MaxPool1D(2))\n",
        "    model_m.add(Dropout(0.50))\n",
        "    model_m.add(Conv1D(128, 10, kernel_constraint = MaxNorm(1.),padding = 'same'))\n",
        "    model_m.add(Conv1D(128, 10, kernel_constraint = MaxNorm(1.),padding = 'same'))\n",
        "    model_m.add(BatchNormalization(axis=-1))\n",
        "    model_m.add(Activation(\"relu\"))\n",
        "    model_m.add(MaxPool1D(10))\n",
        "    model_m.add(Flatten())\n",
        "    model_m.add(Dropout(0.50))\n",
        "    model_m.add(Dense(64, kernel_regularizer = regularizers.l1_l2(l1=0, l2=1e-5), activation = 'relu', kernel_constraint = MaxNorm(1.)))\n",
        "    model_m.add(Dense(2, kernel_regularizer = regularizers.l1_l2(l1=0, l2=1e-5),activation = 'softmax',kernel_constraint = MaxNorm(1.)))\n",
        "\n",
        "    return model_m\n"
      ],
      "metadata": {
        "id": "0ewZpy2RREcw"
      },
      "execution_count": 92,
      "outputs": []
    },
    {
      "cell_type": "code",
      "source": [
        "model=CNNModel()\n",
        "optim=tf.keras.optimizers.SGD(learning_rate=0.001) #SGD #reomve rest #shuffle  #classes one by one\n",
        "#model.compile(loss='sparse_categorical_crossentropy', optimizer = optimizers.Adam(lr = 0.001), metrics = [\"acc\"])\n",
        "model.compile(optimizer =optim,loss='sparse_categorical_crossentropy',metrics=['accuracy'])\n",
        "\n",
        "Epochs = 15\n",
        "\n",
        "history = model.fit(X_train,Y_train,\n",
        "                    epochs=Epochs,\n",
        "                    validation_data=(X_test,Y_test),\n",
        "                    batch_size=16,\n",
        "                    verbose=1)"
      ],
      "metadata": {
        "id": "WA16CwJMSfaY",
        "colab": {
          "base_uri": "https://localhost:8080/"
        },
        "outputId": "1716eb28-8a98-4b84-8160-740ce1f1fcb8"
      },
      "execution_count": 93,
      "outputs": [
        {
          "output_type": "stream",
          "name": "stdout",
          "text": [
            "Epoch 1/15\n",
            "4/4 [==============================] - 19s 4s/step - loss: 2.1517 - accuracy: 0.5600 - val_loss: 0.8059 - val_accuracy: 0.5000\n",
            "Epoch 2/15\n",
            "4/4 [==============================] - 16s 4s/step - loss: 1.4997 - accuracy: 0.4600 - val_loss: 0.7003 - val_accuracy: 0.4600\n",
            "Epoch 3/15\n",
            "4/4 [==============================] - 16s 4s/step - loss: 0.7104 - accuracy: 0.5000 - val_loss: 0.7019 - val_accuracy: 0.2600\n",
            "Epoch 4/15\n",
            "4/4 [==============================] - 15s 4s/step - loss: 0.7584 - accuracy: 0.4200 - val_loss: 0.7058 - val_accuracy: 0.5000\n",
            "Epoch 5/15\n",
            "4/4 [==============================] - 15s 4s/step - loss: 0.8815 - accuracy: 0.4400 - val_loss: 0.7019 - val_accuracy: 0.4000\n",
            "Epoch 6/15\n",
            "4/4 [==============================] - 15s 4s/step - loss: 0.6677 - accuracy: 0.6200 - val_loss: 0.6997 - val_accuracy: 0.5000\n",
            "Epoch 7/15\n",
            "4/4 [==============================] - 16s 4s/step - loss: 0.7245 - accuracy: 0.5600 - val_loss: 0.6998 - val_accuracy: 0.5000\n",
            "Epoch 8/15\n",
            "4/4 [==============================] - 15s 4s/step - loss: 0.7699 - accuracy: 0.5400 - val_loss: 0.6975 - val_accuracy: 0.5000\n",
            "Epoch 9/15\n",
            "4/4 [==============================] - 15s 4s/step - loss: 0.7231 - accuracy: 0.4800 - val_loss: 0.6973 - val_accuracy: 0.4800\n",
            "Epoch 10/15\n",
            "4/4 [==============================] - 15s 4s/step - loss: 0.7047 - accuracy: 0.5400 - val_loss: 0.6991 - val_accuracy: 0.5400\n",
            "Epoch 11/15\n",
            "4/4 [==============================] - 15s 4s/step - loss: 0.7813 - accuracy: 0.4000 - val_loss: 0.6984 - val_accuracy: 0.4800\n",
            "Epoch 12/15\n",
            "4/4 [==============================] - 15s 4s/step - loss: 0.6817 - accuracy: 0.5800 - val_loss: 0.6963 - val_accuracy: 0.5000\n",
            "Epoch 13/15\n",
            "4/4 [==============================] - 15s 4s/step - loss: 0.6914 - accuracy: 0.5600 - val_loss: 0.6935 - val_accuracy: 0.5200\n",
            "Epoch 14/15\n",
            "4/4 [==============================] - 15s 4s/step - loss: 0.7130 - accuracy: 0.4400 - val_loss: 0.6937 - val_accuracy: 0.4800\n",
            "Epoch 15/15\n",
            "4/4 [==============================] - 16s 4s/step - loss: 0.6708 - accuracy: 0.5400 - val_loss: 0.6951 - val_accuracy: 0.5400\n"
          ]
        }
      ]
    },
    {
      "cell_type": "code",
      "source": [
        "X_train=np.expand_dims(X_train,axis=-1)\n",
        "X_train=np.moveaxis(X_train,1,2)\n",
        "X_test=np.expand_dims(X_test,axis=-1)\n",
        "X_test=np.moveaxis(X_test,1,2)\n",
        "X_train.shape "
      ],
      "metadata": {
        "colab": {
          "base_uri": "https://localhost:8080/"
        },
        "id": "ihqY8HdFhB5Y",
        "outputId": "2dd32d42-cd86-490b-9898-dee0780f9d67"
      },
      "execution_count": 94,
      "outputs": [
        {
          "output_type": "execute_result",
          "data": {
            "text/plain": [
              "(50, 60, 5000, 1)"
            ]
          },
          "metadata": {},
          "execution_count": 94
        }
      ]
    },
    {
      "cell_type": "code",
      "execution_count": 95,
      "metadata": {
        "id": "Ov6p43v1e1l2"
      },
      "outputs": [],
      "source": [
        "\"\"\"\n",
        " ARL_EEGModels - A collection of Convolutional Neural Network models for EEG\n",
        " Signal Processing and Classification, using Keras and Tensorflow\n",
        " Requirements:\n",
        "    (1) tensorflow == 2.X (as of this writing, 2.0 - 2.3 have been verified\n",
        "        as working)\n",
        " \n",
        " To run the EEG/MEG ERP classification sample script, you will also need\n",
        "    (4) mne >= 0.17.1\n",
        "    (5) PyRiemann >= 0.2.5\n",
        "    (6) scikit-learn >= 0.20.1\n",
        "    (7) matplotlib >= 2.2.3\n",
        "    \n",
        " To use:\n",
        "    \n",
        "    (1) Place this file in the PYTHONPATH variable in your IDE (i.e.: Spyder)\n",
        "    (2) Import the model as\n",
        "        \n",
        "        from EEGModels import EEGNet    \n",
        "        \n",
        "        model = EEGNet(nb_classes = ..., Chans = ..., Samples = ...)\n",
        "        \n",
        "    (3) Then compile and fit the model\n",
        "    \n",
        "        model.compile(loss = ..., optimizer = ..., metrics = ...)\n",
        "        fitted    = model.fit(...)\n",
        "        predicted = model.predict(...)\n",
        " Portions of this project are works of the United States Government and are not\n",
        " subject to domestic copyright protection under 17 USC Sec. 105.  Those \n",
        " portions are released world-wide under the terms of the Creative Commons Zero \n",
        " 1.0 (CC0) license.  \n",
        " \n",
        " Other portions of this project are subject to domestic copyright protection \n",
        " under 17 USC Sec. 105.  Those portions are licensed under the Apache 2.0 \n",
        " license.  The complete text of the license governing this material is in \n",
        " the file labeled LICENSE.TXT that is a part of this project's official \n",
        " distribution. \n",
        "\"\"\"\n",
        "\n",
        "from tensorflow.keras.models import Model\n",
        "from tensorflow.keras.layers import Dense, Activation, Permute, Dropout\n",
        "from tensorflow.keras.layers import Conv2D, MaxPooling2D, AveragePooling2D\n",
        "from tensorflow.keras.layers import SeparableConv2D, DepthwiseConv2D\n",
        "from tensorflow.keras.layers import BatchNormalization\n",
        "from tensorflow.keras.layers import SpatialDropout2D\n",
        "from tensorflow.keras.regularizers import l1_l2\n",
        "from tensorflow.keras.layers import Input, Flatten\n",
        "from tensorflow.keras.constraints import max_norm\n",
        "from tensorflow.keras import backend as K\n",
        "import tensorflow as tf\n",
        "\n",
        "def EEGNet(nb_classes, Chans = 64, Samples = 128, \n",
        "             dropoutRate = 0.5, kernLength = 64, F1 = 8, \n",
        "              D = 2, F2 = 16, norm_rate = 0.25, dropoutType = 'Dropout'):\n",
        "    \"\"\" Keras Implementation of EEGNet\n",
        "    http://iopscience.iop.org/article/10.1088/1741-2552/aace8c/meta\n",
        "    Note that this implements the newest version of EEGNet and NOT the earlier\n",
        "    version (version v1 and v2 on arxiv). We strongly recommend using this\n",
        "    architecture as it performs much better and has nicer properties than\n",
        "    our earlier version. For example:\n",
        "        \n",
        "        1. Depthwise Convolutions to learn spatial filters within a \n",
        "        temporal convolution. The use of the depth_multiplier option maps \n",
        "        exactly to the number of spatial filters learned within a temporal\n",
        "        filter. This matches the setup of algorithms like FBCSP which learn \n",
        "        spatial filters within each filter in a filter-bank. This also limits \n",
        "        the number of free parameters to fit when compared to a fully-connected\n",
        "        convolution. \n",
        "        \n",
        "        2. Separable Convolutions to learn how to optimally combine spatial\n",
        "        filters across temporal bands. Separable Convolutions are Depthwise\n",
        "        Convolutions followed by (1x1) Pointwise Convolutions. \n",
        "        \n",
        "    \n",
        "    While the original paper used Dropout, we found that SpatialDropout2D \n",
        "    sometimes produced slightly better results for classification of ERP \n",
        "    signals. However, SpatialDropout2D significantly reduced performance \n",
        "    on the Oscillatory dataset (SMR, BCI-IV Dataset 2A). We recommend using\n",
        "    the default Dropout in most cases.\n",
        "        \n",
        "    Assumes the input signal is sampled at 128Hz. If you want to use this model\n",
        "    for any other sampling rate you will need to modify the lengths of temporal\n",
        "    kernels and average pooling size in blocks 1 and 2 as needed (double the \n",
        "    kernel lengths for double the sampling rate, etc). Note that we haven't \n",
        "    tested the model performance with this rule so this may not work well. \n",
        "    \n",
        "    The model with default parameters gives the EEGNet-8,2 model as discussed\n",
        "    in the paper. This model should do pretty well in general, although it is\n",
        "  \tadvised to do some model searching to get optimal performance on your\n",
        "  \tparticular dataset.\n",
        "    We set F2 = F1 * D (number of input filters = number of output filters) for\n",
        "    the SeparableConv2D layer. We haven't extensively tested other values of this\n",
        "    parameter (say, F2 < F1 * D for compressed learning, and F2 > F1 * D for\n",
        "    overcomplete). We believe the main parameters to focus on are F1 and D. \n",
        "    Inputs:\n",
        "        \n",
        "      nb_classes      : int, number of classes to classify\n",
        "      Chans, Samples  : number of channels and time points in the EEG data\n",
        "      dropoutRate     : dropout fraction\n",
        "      kernLength      : length of temporal convolution in first layer. We found\n",
        "                        that setting this to be half the sampling rate worked\n",
        "                        well in practice. For the SMR dataset in particular\n",
        "                        since the data was high-passed at 4Hz we used a kernel\n",
        "                        length of 32.     \n",
        "      F1, F2          : number of temporal filters (F1) and number of pointwise\n",
        "                        filters (F2) to learn. Default: F1 = 8, F2 = F1 * D. \n",
        "      D               : number of spatial filters to learn within each temporal\n",
        "                        convolution. Default: D = 2\n",
        "      dropoutType     : Either SpatialDropout2D or Dropout, passed as a string.\n",
        "\n",
        "    \"\"\"\n",
        "    if dropoutType == 'SpatialDropout2D':\n",
        "        dropoutType = SpatialDropout2D\n",
        "    elif dropoutType == 'Dropout':\n",
        "        dropoutType = Dropout\n",
        "    else:\n",
        "        raise ValueError('dropoutType must be one of SpatialDropout2D '\n",
        "                         'or Dropout, passed as a string.')\n",
        "    \n",
        "    input1   = Input(shape = (Chans, Samples, 1))\n",
        "\n",
        "    ##################################################################\n",
        "    block1       = Conv2D(F1, (1, kernLength), padding = 'same',\n",
        "                                   input_shape = (Chans, Samples, 1),\n",
        "                                   use_bias = False)(input1)\n",
        "    block1       = BatchNormalization()(block1)\n",
        "    block1       = DepthwiseConv2D((Chans, 1), use_bias = False, \n",
        "                                   depth_multiplier = D,\n",
        "                                   depthwise_constraint = max_norm(1.))(block1)\n",
        "    block1       = BatchNormalization()(block1)\n",
        "    block1       = Activation('elu')(block1)\n",
        "    block1       = AveragePooling2D((1, 4))(block1)\n",
        "    block1       = dropoutType(dropoutRate)(block1)\n",
        "    \n",
        "    block2       = SeparableConv2D(F2, (1, 16),\n",
        "                                   use_bias = False, padding = 'same')(block1)\n",
        "    block2       = BatchNormalization()(block2)\n",
        "    block2       = Activation('elu')(block2)\n",
        "    block2       = AveragePooling2D((1, 8))(block2)\n",
        "    block2       = dropoutType(dropoutRate)(block2)\n",
        "        \n",
        "    flatten      = Flatten(name = 'flatten')(block2)\n",
        "    \n",
        "    dense        = Dense(nb_classes, name = 'dense', \n",
        "                         kernel_constraint = max_norm(norm_rate))(flatten)\n",
        "    softmax      = Activation('softmax', name = 'softmax')(dense)\n",
        "    \n",
        "    return Model(inputs=input1, outputs=softmax)\n",
        "\n",
        "\n",
        "\n",
        "\n",
        "def EEGNet_SSVEP(nb_classes =12, Chans =8 , Samples =256,\n",
        "             dropoutRate = 0.5, kernLength = 256, F1 = 96, \n",
        "             D = 1, F2 = 96, dropoutType = 'Dropout'):\n",
        "    \"\"\" SSVEP Variant of EEGNet, as used in [1]. \n",
        "    Inputs:\n",
        "        \n",
        "      nb_classes      : int, number of classes to classify\n",
        "      Chans, Samples  : number of channels and time points in the EEG data\n",
        "      dropoutRate     : dropout fraction\n",
        "      kernLength      : length of temporal convolution in first layer\n",
        "      F1, F2          : number of temporal filters (F1) and number of pointwise\n",
        "                        filters (F2) to learn. \n",
        "      D               : number of spatial filters to learn within each temporal\n",
        "                        convolution.\n",
        "      dropoutType     : Either SpatialDropout2D or Dropout, passed as a string.\n",
        "      \n",
        "      \n",
        "    [1]. Waytowich, N. et. al. (2018). Compact Convolutional Neural Networks\n",
        "    for Classification of Asynchronous Steady-State Visual Evoked Potentials.\n",
        "    Journal of Neural Engineering vol. 15(6). \n",
        "    http://iopscience.iop.org/article/10.1088/1741-2552/aae5d8\n",
        "    \"\"\"\n",
        "    \n",
        "    if dropoutType == 'SpatialDropout2D':\n",
        "        dropoutType = SpatialDropout2D\n",
        "    elif dropoutType == 'Dropout':\n",
        "        dropoutType = Dropout\n",
        "    else:\n",
        "        raise ValueError('dropoutType must be one of SpatialDropout2D '\n",
        "                         'or Dropout, passed as a string.')\n",
        "    \n",
        "    input1   = Input(shape = (Chans, Samples, 1))\n",
        "\n",
        "    ##################################################################\n",
        "    block1       = Conv2D(F1, (1, kernLength), padding = 'same',\n",
        "                                   input_shape = (Chans, Samples, 1),\n",
        "                                   use_bias = False)(input1)\n",
        "    block1       = BatchNormalization()(block1)\n",
        "    block1       = DepthwiseConv2D((Chans, 1), use_bias = False, \n",
        "                                   depth_multiplier = D,\n",
        "                                   depthwise_constraint = max_norm(1.))(block1)\n",
        "    block1       = BatchNormalization()(block1)\n",
        "    block1       = Activation('elu')(block1)\n",
        "    block1       = AveragePooling2D((1, 4))(block1)\n",
        "    block1       = dropoutType(dropoutRate)(block1)\n",
        "    \n",
        "    block2       = SeparableConv2D(F2, (1, 16),\n",
        "                                   use_bias = False, padding = 'same')(block1)\n",
        "    block2       = BatchNormalization()(block2)\n",
        "    block2       = Activation('elu')(block2)\n",
        "    block2       = AveragePooling2D((1, 8))(block2)\n",
        "    block2       = dropoutType(dropoutRate)(block2)\n",
        "        \n",
        "    flatten      = Flatten(name = 'flatten')(block2)\n",
        "    \n",
        "    dense        = Dense(nb_classes, name = 'dense')(flatten)\n",
        "    softmax      = Activation('softmax', name = 'softmax')(dense)\n",
        "    \n",
        "    return Model(inputs=input1, outputs=softmax)\n",
        "\n",
        "\n",
        "\n",
        "def EEGNet_old(nb_classes, Chans = 64, Samples = 128, regRate = 0.0001,\n",
        "           dropoutRate = 0.25, kernels = [(2, 32), (8, 4)], strides = (2, 4)):\n",
        "    \"\"\" Keras Implementation of EEGNet_v1 (https://arxiv.org/abs/1611.08024v2)\n",
        "    This model is the original EEGNet model proposed on arxiv\n",
        "            https://arxiv.org/abs/1611.08024v2\n",
        "    \n",
        "    with a few modifications: we use striding instead of max-pooling as this \n",
        "    helped slightly in classification performance while also providing a \n",
        "    computational speed-up. \n",
        "    \n",
        "    Note that we no longer recommend the use of this architecture, as the new\n",
        "    version of EEGNet performs much better overall and has nicer properties.\n",
        "    \n",
        "    Inputs:\n",
        "        \n",
        "        nb_classes     : total number of final categories\n",
        "        Chans, Samples : number of EEG channels and samples, respectively\n",
        "        regRate        : regularization rate for L1 and L2 regularizations\n",
        "        dropoutRate    : dropout fraction\n",
        "        kernels        : the 2nd and 3rd layer kernel dimensions (default is \n",
        "                         the [2, 32] x [8, 4] configuration)\n",
        "        strides        : the stride size (note that this replaces the max-pool\n",
        "                         used in the original paper)\n",
        "    \n",
        "    \"\"\"\n",
        "\n",
        "    # start the model\n",
        "    input_main   = Input((Chans, Samples))\n",
        "    layer1       = Conv2D(16, (Chans, 1), input_shape=(Chans, Samples, 1),\n",
        "                                 kernel_regularizer = l1_l2(l1=regRate, l2=regRate))(input_main)\n",
        "    layer1       = BatchNormalization()(layer1)\n",
        "    layer1       = Activation('elu')(layer1)\n",
        "    layer1       = Dropout(dropoutRate)(layer1)\n",
        "    \n",
        "    permute_dims = 2, 1, 3\n",
        "    permute1     = Permute(permute_dims)(layer1)\n",
        "    \n",
        "    layer2       = Conv2D(4, kernels[0], padding = 'same', \n",
        "                            kernel_regularizer=l1_l2(l1=0.0, l2=regRate),\n",
        "                            strides = strides)(permute1)\n",
        "    layer2       = BatchNormalization()(layer2)\n",
        "    layer2       = Activation('elu')(layer2)\n",
        "    layer2       = Dropout(dropoutRate)(layer2)\n",
        "    \n",
        "    layer3       = Conv2D(4, kernels[1], padding = 'same',\n",
        "                            kernel_regularizer=l1_l2(l1=0.0, l2=regRate),\n",
        "                            strides = strides)(layer2)\n",
        "    layer3       = BatchNormalization()(layer3)\n",
        "    layer3       = Activation('elu')(layer3)\n",
        "    layer3       = Dropout(dropoutRate)(layer3)\n",
        "    \n",
        "    flatten      = Flatten(name = 'flatten')(layer3)\n",
        "    \n",
        "    dense        = Dense(nb_classes, name = 'dense')(flatten)\n",
        "    softmax      = Activation('softmax', name = 'softmax')(dense)\n",
        "    \n",
        "    return Model(inputs=input_main, outputs=softmax)\n",
        "\n",
        "\n",
        "\n",
        "def DeepConvNet(nb_classes, Chans = 64, Samples = 256,\n",
        "                dropoutRate = 0.5):\n",
        "    \"\"\" Keras implementation of the Deep Convolutional Network as described in\n",
        "    Schirrmeister et. al. (2017), Human Brain Mapping.\n",
        "    \n",
        "    This implementation assumes the input is a 2-second EEG signal sampled at \n",
        "    128Hz, as opposed to signals sampled at 250Hz as described in the original\n",
        "    paper. We also perform temporal convolutions of length (1, 5) as opposed\n",
        "    to (1, 10) due to this sampling rate difference. \n",
        "    \n",
        "    Note that we use the max_norm constraint on all convolutional layers, as \n",
        "    well as the classification layer. We also change the defaults for the\n",
        "    BatchNormalization layer. We used this based on a personal communication \n",
        "    with the original authors.\n",
        "    \n",
        "                      ours        original paper\n",
        "    pool_size        1, 2        1, 3\n",
        "    strides          1, 2        1, 3\n",
        "    conv filters     1, 5        1, 10\n",
        "    \n",
        "    Note that this implementation has not been verified by the original \n",
        "    authors. \n",
        "    \n",
        "    \"\"\"\n",
        "\n",
        "    # start the model\n",
        "    input_main   = Input((Chans, Samples, 1))\n",
        "    block1       = Conv2D(25, (1, 5), \n",
        "                                 input_shape=(Chans, Samples, 1),\n",
        "                                 kernel_constraint = max_norm(2., axis=(0,1,2)))(input_main)\n",
        "    block1       = Conv2D(25, (Chans, 1),\n",
        "                                 kernel_constraint = max_norm(2., axis=(0,1,2)))(block1)\n",
        "    block1       = BatchNormalization(epsilon=1e-05, momentum=0.9)(block1)\n",
        "    block1       = Activation('elu')(block1)\n",
        "    block1       = MaxPooling2D(pool_size=(1, 2), strides=(1, 2))(block1)\n",
        "    block1       = Dropout(dropoutRate)(block1)\n",
        "  \n",
        "    block2       = Conv2D(50, (1, 5),\n",
        "                                 kernel_constraint = max_norm(2., axis=(0,1,2)))(block1)\n",
        "    block2       = BatchNormalization(epsilon=1e-05, momentum=0.9)(block2)\n",
        "    block2       = Activation('elu')(block2)\n",
        "    block2       = MaxPooling2D(pool_size=(1, 2), strides=(1, 2))(block2)\n",
        "    block2       = Dropout(dropoutRate)(block2)\n",
        "    \n",
        "    block3       = Conv2D(100, (1, 5),\n",
        "                                 kernel_constraint = max_norm(2., axis=(0,1,2)))(block2)\n",
        "    block3       = BatchNormalization(epsilon=1e-05, momentum=0.9)(block3)\n",
        "    block3       = Activation('elu')(block3)\n",
        "    block3       = MaxPooling2D(pool_size=(1, 2), strides=(1, 2))(block3)\n",
        "    block3       = Dropout(dropoutRate)(block3)\n",
        "    \n",
        "    block4       = Conv2D(200, (1, 5),\n",
        "                                 kernel_constraint = max_norm(2., axis=(0,1,2)))(block3)\n",
        "    block4       = BatchNormalization(epsilon=1e-05, momentum=0.9)(block4)\n",
        "    block4       = Activation('elu')(block4)\n",
        "    block4       = MaxPooling2D(pool_size=(1, 2), strides=(1, 2))(block4)\n",
        "    block4       = Dropout(dropoutRate)(block4)\n",
        "    \n",
        "    flatten      = Flatten()(block4)\n",
        "    \n",
        "    dense        = Dense(nb_classes, kernel_constraint = max_norm(0.5))(flatten)\n",
        "    softmax      = Activation('softmax')(dense)\n",
        "    \n",
        "    return Model(inputs=input_main, outputs=softmax)\n",
        "\n",
        "\n",
        "# need these for ShallowConvNet\n",
        "def square(x):\n",
        "    return K.square(x)\n",
        "\n",
        "def log(x):\n",
        "    return K.log(K.clip(x, min_value = 1e-7, max_value = 10000))   \n",
        "\n",
        "\n",
        "def ShallowConvNet(nb_classes, Chans = 64, Samples = 128, dropoutRate = 0.5):\n",
        "    \"\"\" Keras implementation of the Shallow Convolutional Network as described\n",
        "    in Schirrmeister et. al. (2017), Human Brain Mapping.\n",
        "    \n",
        "    Assumes the input is a 2-second EEG signal sampled at 128Hz. Note that in \n",
        "    the original paper, they do temporal convolutions of length 25 for EEG\n",
        "    data sampled at 250Hz. We instead use length 13 since the sampling rate is \n",
        "    roughly half of the 250Hz which the paper used. The pool_size and stride\n",
        "    in later layers is also approximately half of what is used in the paper.\n",
        "    \n",
        "    Note that we use the max_norm constraint on all convolutional layers, as \n",
        "    well as the classification layer. We also change the defaults for the\n",
        "    BatchNormalization layer. We used this based on a personal communication \n",
        "    with the original authors.\n",
        "    \n",
        "                     ours        original paper\n",
        "    pool_size        1, 35       1, 75\n",
        "    strides          1, 7        1, 15\n",
        "    conv filters     1, 13       1, 25    \n",
        "    \n",
        "    Note that this implementation has not been verified by the original \n",
        "    authors. We do note that this implementation reproduces the results in the\n",
        "    original paper with minor deviations. \n",
        "    \"\"\"\n",
        "\n",
        "    # start the model\n",
        "    input_main   = Input((Chans, Samples, 1))\n",
        "    block1       = Conv2D(40, (1, 13), \n",
        "                                 input_shape=(Chans, Samples, 1),\n",
        "                                 kernel_constraint = max_norm(2., axis=(0,1,2)))(input_main)\n",
        "    block1       = Conv2D(40, (Chans, 1), use_bias=False, \n",
        "                          kernel_constraint = max_norm(2., axis=(0,1,2)))(block1)\n",
        "    block1       = BatchNormalization(epsilon=1e-05, momentum=0.9)(block1)\n",
        "    block1       = Activation(square)(block1)\n",
        "    block1       = AveragePooling2D(pool_size=(1, 35), strides=(1, 7))(block1)\n",
        "    block1       = Activation(log)(block1)\n",
        "    block1       = Dropout(dropoutRate)(block1)\n",
        "    flatten      = Flatten()(block1)\n",
        "    dense        = Dense(nb_classes, kernel_constraint = max_norm(0.5))(flatten)\n",
        "    softmax      = Activation('softmax')(dense)\n",
        "    \n",
        "    return Model(inputs=input_main, outputs=softmax)\n"
      ]
    },
    {
      "cell_type": "code",
      "execution_count": 96,
      "metadata": {
        "id": "2PChOdKRe1l5",
        "colab": {
          "base_uri": "https://localhost:8080/"
        },
        "outputId": "e9663e8d-34e6-431c-862e-f31105c6d0f2"
      },
      "outputs": [
        {
          "output_type": "stream",
          "name": "stdout",
          "text": [
            "Epoch 1/8\n",
            "7/7 [==============================] - 15s 2s/step - loss: 0.7102 - accuracy: 0.5600 - val_loss: 0.6922 - val_accuracy: 0.5000\n",
            "Epoch 2/8\n",
            "7/7 [==============================] - 13s 2s/step - loss: 0.6445 - accuracy: 0.7200 - val_loss: 0.6923 - val_accuracy: 0.5200\n",
            "Epoch 3/8\n",
            "7/7 [==============================] - 17s 2s/step - loss: 0.6371 - accuracy: 0.6000 - val_loss: 0.6922 - val_accuracy: 0.5200\n",
            "Epoch 4/8\n",
            "7/7 [==============================] - 15s 2s/step - loss: 0.6178 - accuracy: 0.7600 - val_loss: 0.6923 - val_accuracy: 0.5200\n",
            "Epoch 5/8\n",
            "7/7 [==============================] - 14s 2s/step - loss: 0.5797 - accuracy: 0.8000 - val_loss: 0.6923 - val_accuracy: 0.5600\n",
            "Epoch 6/8\n",
            "7/7 [==============================] - 15s 2s/step - loss: 0.5302 - accuracy: 0.9600 - val_loss: 0.6923 - val_accuracy: 0.5200\n",
            "Epoch 7/8\n",
            "7/7 [==============================] - 15s 2s/step - loss: 0.5151 - accuracy: 0.9600 - val_loss: 0.6922 - val_accuracy: 0.5200\n",
            "Epoch 8/8\n",
            "7/7 [==============================] - 15s 2s/step - loss: 0.4956 - accuracy: 0.9600 - val_loss: 0.6922 - val_accuracy: 0.5400\n"
          ]
        }
      ],
      "source": [
        "num_classes =2\n",
        "kernLength=10\n",
        "model =EEGNet(nb_classes=num_classes, Chans = X_train.shape[1], Samples = X_train.shape[2],kernLength=kernLength,dropoutRate=0.5)\n",
        "#model.compile(loss = 'categorical_crossentropy', optimizer = 'adam',  metrics=['accuracy'])\n",
        "optim=tf.keras.optimizers.SGD(learning_rate=0.001)\n",
        "model.compile(optimizer=optim,loss='sparse_categorical_crossentropy',metrics=['accuracy'])\n",
        "Epochs=8\n",
        "history =  model.fit(X_train,Y_train,\n",
        "                    epochs=Epochs,\n",
        "                    validation_data=(X_test,Y_test),\n",
        "                    batch_size=8,\n",
        "                    verbose=1)"
      ]
    }
  ],
  "metadata": {
    "kernelspec": {
      "display_name": "Python 3",
      "language": "python",
      "name": "python3"
    },
    "language_info": {
      "codemirror_mode": {
        "name": "ipython",
        "version": 3
      },
      "file_extension": ".py",
      "mimetype": "text/x-python",
      "name": "python",
      "nbconvert_exporter": "python",
      "pygments_lexer": "ipython3",
      "version": "3.8.5"
    },
    "colab": {
      "provenance": [],
      "toc_visible": true
    },
    "gpuClass": "standard"
  },
  "nbformat": 4,
  "nbformat_minor": 0
}